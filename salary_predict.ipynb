{
  "cells": [
    {
      "cell_type": "markdown",
      "metadata": {
        "id": "view-in-github",
        "colab_type": "text"
      },
      "source": [
        "<a href=\"https://colab.research.google.com/github/Hainguyendangduc/DeepLearning_PJ/blob/main/salary_predict.ipynb\" target=\"_parent\"><img src=\"https://colab.research.google.com/assets/colab-badge.svg\" alt=\"Open In Colab\"/></a>"
      ]
    },
    {
      "cell_type": "code",
      "execution_count": null,
      "metadata": {
        "id": "4MQy-ZUE28bL"
      },
      "outputs": [],
      "source": [
        "import numpy as np\n",
        "from matplotlib import pyplot as plt\n",
        "import pandas as pd"
      ]
    },
    {
      "cell_type": "code",
      "execution_count": null,
      "metadata": {
        "colab": {
          "base_uri": "https://localhost:8080/",
          "height": 206
        },
        "id": "tN6q5NYE3tj8",
        "outputId": "f1b464f2-d0ad-4546-dde9-209a75ea2245"
      },
      "outputs": [
        {
          "output_type": "execute_result",
          "data": {
            "text/plain": [
              "    User ID  Gender  Age  EstimatedSalary  Purchased\n",
              "0  15624510    Male   19            19000          0\n",
              "1  15810944    Male   35            20000          0\n",
              "2  15668575  Female   26            43000          0\n",
              "3  15603246  Female   27            57000          0\n",
              "4  15804002    Male   19            76000          0"
            ],
            "text/html": [
              "\n",
              "  <div id=\"df-daf35ccf-c1b3-449d-b934-4d6c130b5593\">\n",
              "    <div class=\"colab-df-container\">\n",
              "      <div>\n",
              "<style scoped>\n",
              "    .dataframe tbody tr th:only-of-type {\n",
              "        vertical-align: middle;\n",
              "    }\n",
              "\n",
              "    .dataframe tbody tr th {\n",
              "        vertical-align: top;\n",
              "    }\n",
              "\n",
              "    .dataframe thead th {\n",
              "        text-align: right;\n",
              "    }\n",
              "</style>\n",
              "<table border=\"1\" class=\"dataframe\">\n",
              "  <thead>\n",
              "    <tr style=\"text-align: right;\">\n",
              "      <th></th>\n",
              "      <th>User ID</th>\n",
              "      <th>Gender</th>\n",
              "      <th>Age</th>\n",
              "      <th>EstimatedSalary</th>\n",
              "      <th>Purchased</th>\n",
              "    </tr>\n",
              "  </thead>\n",
              "  <tbody>\n",
              "    <tr>\n",
              "      <th>0</th>\n",
              "      <td>15624510</td>\n",
              "      <td>Male</td>\n",
              "      <td>19</td>\n",
              "      <td>19000</td>\n",
              "      <td>0</td>\n",
              "    </tr>\n",
              "    <tr>\n",
              "      <th>1</th>\n",
              "      <td>15810944</td>\n",
              "      <td>Male</td>\n",
              "      <td>35</td>\n",
              "      <td>20000</td>\n",
              "      <td>0</td>\n",
              "    </tr>\n",
              "    <tr>\n",
              "      <th>2</th>\n",
              "      <td>15668575</td>\n",
              "      <td>Female</td>\n",
              "      <td>26</td>\n",
              "      <td>43000</td>\n",
              "      <td>0</td>\n",
              "    </tr>\n",
              "    <tr>\n",
              "      <th>3</th>\n",
              "      <td>15603246</td>\n",
              "      <td>Female</td>\n",
              "      <td>27</td>\n",
              "      <td>57000</td>\n",
              "      <td>0</td>\n",
              "    </tr>\n",
              "    <tr>\n",
              "      <th>4</th>\n",
              "      <td>15804002</td>\n",
              "      <td>Male</td>\n",
              "      <td>19</td>\n",
              "      <td>76000</td>\n",
              "      <td>0</td>\n",
              "    </tr>\n",
              "  </tbody>\n",
              "</table>\n",
              "</div>\n",
              "      <button class=\"colab-df-convert\" onclick=\"convertToInteractive('df-daf35ccf-c1b3-449d-b934-4d6c130b5593')\"\n",
              "              title=\"Convert this dataframe to an interactive table.\"\n",
              "              style=\"display:none;\">\n",
              "        \n",
              "  <svg xmlns=\"http://www.w3.org/2000/svg\" height=\"24px\"viewBox=\"0 0 24 24\"\n",
              "       width=\"24px\">\n",
              "    <path d=\"M0 0h24v24H0V0z\" fill=\"none\"/>\n",
              "    <path d=\"M18.56 5.44l.94 2.06.94-2.06 2.06-.94-2.06-.94-.94-2.06-.94 2.06-2.06.94zm-11 1L8.5 8.5l.94-2.06 2.06-.94-2.06-.94L8.5 2.5l-.94 2.06-2.06.94zm10 10l.94 2.06.94-2.06 2.06-.94-2.06-.94-.94-2.06-.94 2.06-2.06.94z\"/><path d=\"M17.41 7.96l-1.37-1.37c-.4-.4-.92-.59-1.43-.59-.52 0-1.04.2-1.43.59L10.3 9.45l-7.72 7.72c-.78.78-.78 2.05 0 2.83L4 21.41c.39.39.9.59 1.41.59.51 0 1.02-.2 1.41-.59l7.78-7.78 2.81-2.81c.8-.78.8-2.07 0-2.86zM5.41 20L4 18.59l7.72-7.72 1.47 1.35L5.41 20z\"/>\n",
              "  </svg>\n",
              "      </button>\n",
              "      \n",
              "  <style>\n",
              "    .colab-df-container {\n",
              "      display:flex;\n",
              "      flex-wrap:wrap;\n",
              "      gap: 12px;\n",
              "    }\n",
              "\n",
              "    .colab-df-convert {\n",
              "      background-color: #E8F0FE;\n",
              "      border: none;\n",
              "      border-radius: 50%;\n",
              "      cursor: pointer;\n",
              "      display: none;\n",
              "      fill: #1967D2;\n",
              "      height: 32px;\n",
              "      padding: 0 0 0 0;\n",
              "      width: 32px;\n",
              "    }\n",
              "\n",
              "    .colab-df-convert:hover {\n",
              "      background-color: #E2EBFA;\n",
              "      box-shadow: 0px 1px 2px rgba(60, 64, 67, 0.3), 0px 1px 3px 1px rgba(60, 64, 67, 0.15);\n",
              "      fill: #174EA6;\n",
              "    }\n",
              "\n",
              "    [theme=dark] .colab-df-convert {\n",
              "      background-color: #3B4455;\n",
              "      fill: #D2E3FC;\n",
              "    }\n",
              "\n",
              "    [theme=dark] .colab-df-convert:hover {\n",
              "      background-color: #434B5C;\n",
              "      box-shadow: 0px 1px 3px 1px rgba(0, 0, 0, 0.15);\n",
              "      filter: drop-shadow(0px 1px 2px rgba(0, 0, 0, 0.3));\n",
              "      fill: #FFFFFF;\n",
              "    }\n",
              "  </style>\n",
              "\n",
              "      <script>\n",
              "        const buttonEl =\n",
              "          document.querySelector('#df-daf35ccf-c1b3-449d-b934-4d6c130b5593 button.colab-df-convert');\n",
              "        buttonEl.style.display =\n",
              "          google.colab.kernel.accessAllowed ? 'block' : 'none';\n",
              "\n",
              "        async function convertToInteractive(key) {\n",
              "          const element = document.querySelector('#df-daf35ccf-c1b3-449d-b934-4d6c130b5593');\n",
              "          const dataTable =\n",
              "            await google.colab.kernel.invokeFunction('convertToInteractive',\n",
              "                                                     [key], {});\n",
              "          if (!dataTable) return;\n",
              "\n",
              "          const docLinkHtml = 'Like what you see? Visit the ' +\n",
              "            '<a target=\"_blank\" href=https://colab.research.google.com/notebooks/data_table.ipynb>data table notebook</a>'\n",
              "            + ' to learn more about interactive tables.';\n",
              "          element.innerHTML = '';\n",
              "          dataTable['output_type'] = 'display_data';\n",
              "          await google.colab.output.renderOutput(dataTable, element);\n",
              "          const docLink = document.createElement('div');\n",
              "          docLink.innerHTML = docLinkHtml;\n",
              "          element.appendChild(docLink);\n",
              "        }\n",
              "      </script>\n",
              "    </div>\n",
              "  </div>\n",
              "  "
            ]
          },
          "metadata": {},
          "execution_count": 2
        }
      ],
      "source": [
        "data = pd.read_csv(\"Social_Network_Ads.csv\")\n",
        "data.head()"
      ]
    },
    {
      "cell_type": "code",
      "execution_count": null,
      "metadata": {
        "colab": {
          "base_uri": "https://localhost:8080/"
        },
        "id": "hgjrZCih3wYv",
        "outputId": "9cdccbd9-ea14-4a03-aaa8-e14987939c29"
      },
      "outputs": [
        {
          "output_type": "stream",
          "name": "stdout",
          "text": [
            "(400, 2) (400, 1)\n"
          ]
        }
      ],
      "source": [
        "X = data.iloc[:, [2, 3]].values\n",
        "y = data.iloc[:, [-1]].values\n",
        "\n",
        "print(X.shape, y.shape)"
      ]
    },
    {
      "cell_type": "code",
      "execution_count": null,
      "metadata": {
        "colab": {
          "base_uri": "https://localhost:8080/"
        },
        "id": "7F6Wjgpv39hy",
        "outputId": "0e0c9126-27ca-4b85-e389-0b6928c3491f"
      },
      "outputs": [
        {
          "output_type": "stream",
          "name": "stdout",
          "text": [
            "(320, 2) (320, 1)\n",
            "(80, 2) (80, 1)\n"
          ]
        }
      ],
      "source": [
        "from sklearn.model_selection import train_test_split\n",
        "X_train, X_test, y_train, y_test = train_test_split(X, y, test_size=0.2, random_state=42)\n",
        "\n",
        "print(X_train.shape, y_train.shape)\n",
        "print(X_test.shape, y_test.shape)"
      ]
    },
    {
      "cell_type": "code",
      "execution_count": null,
      "metadata": {
        "colab": {
          "base_uri": "https://localhost:8080/"
        },
        "id": "oAsq33Fl4Cfx",
        "outputId": "80bbfaf6-6ab7-430f-db51-2cfbcae4648f"
      },
      "outputs": [
        {
          "output_type": "stream",
          "name": "stdout",
          "text": [
            "(80, 3)\n"
          ]
        }
      ],
      "source": [
        "X_max = X_train.max(axis=0, keepdims=True)\n",
        "X_min = X_train.min(axis=0, keepdims=True)\n",
        "\n",
        "X_train_scaled = (X_train - X_min) / (X_max - X_min)\n",
        "X_test_scaled = (X_test - X_min) / (X_max - X_min)\n",
        "\n",
        "X_train_scaled = np.hstack((np.ones((X_train_scaled.shape[0], 1)), X_train_scaled))\n",
        "X_test_scaled = np.hstack((np.ones((X_test_scaled.shape[0], 1)), X_test_scaled))\n",
        "\n",
        "print(X_test_scaled.shape)"
      ]
    },
    {
      "cell_type": "code",
      "execution_count": null,
      "metadata": {
        "id": "ewksN6rLTCiy"
      },
      "outputs": [],
      "source": [
        "g = lambda z: 1 / (1 + np.exp(-z))\n",
        "def predict_prob(X, w):\n",
        "  z = np.dot(X,w.T)\n",
        "  return g(z)\n",
        "def predict(X,w):\n",
        "  y_hat = predict_prob(X, w)\n",
        "  y_hat[y_hat>0.5] = 1\n",
        "  y_hat[y_hat<0.5] = 0\n",
        "  return y_hat"
      ]
    },
    {
      "cell_type": "code",
      "execution_count": null,
      "metadata": {
        "id": "2GmSzpWWU_wq"
      },
      "outputs": [],
      "source": [
        "def loss(X, y, w):\n",
        "  y_hat = predict_prob(X, w)\n",
        "  l = y * np.log(y_hat) + (1-y) * np.log(1 - y_hat)\n",
        "  return -np.mean(l)"
      ]
    },
    {
      "cell_type": "code",
      "execution_count": null,
      "metadata": {
        "id": "tHb7zgehVto9"
      },
      "outputs": [],
      "source": [
        "def grad(X, y, w):\n",
        "  y_hat = predict_prob(X,w)\n",
        "  delta = y_hat - y\n",
        "\n",
        "  dw = np.dot(X.T, delta)\n",
        "  return dw.T"
      ]
    },
    {
      "cell_type": "code",
      "execution_count": null,
      "metadata": {
        "colab": {
          "base_uri": "https://localhost:8080/"
        },
        "id": "ItPPugHJpK5N",
        "outputId": "e098e654-7cc5-4c9c-a6d3-7629335662f1"
      },
      "outputs": [
        {
          "output_type": "stream",
          "name": "stdout",
          "text": [
            "Final loss =  0.3728907863574754\n"
          ]
        }
      ],
      "source": [
        "def batch_generator(X, y, batch_size=32):\n",
        "  idx = np.arange(X.shape[0])\n",
        "  np.random.shuffle(idx)\n",
        "\n",
        "  n_batch = len(idx) // batch_size\n",
        "  for i in range(n_batch):\n",
        "    i_start = i * batch_size\n",
        "    i_stop = min((i + 1) * batch_size, len(idx))\n",
        "\n",
        "    yield X[i_start:i_stop, :], y[i_start:i_stop, :]\n",
        "\n",
        "EPOCHS = 10000\n",
        "LR = 0.01\n",
        "\n",
        "w = np.random.randn(1, 3)\n",
        "\n",
        "for i in range(EPOCHS):\n",
        "  for X_batch, y_batch in batch_generator(X_train_scaled, y_train):\n",
        "    dw = grad(X_batch, y_batch, w)\n",
        "    w -= LR * dw\n",
        "\n",
        "print(\"Final loss = \", loss(X_train_scaled, y_train, w))"
      ]
    },
    {
      "cell_type": "code",
      "execution_count": null,
      "metadata": {
        "colab": {
          "base_uri": "https://localhost:8080/"
        },
        "id": "Htjtt6qPYNQa",
        "outputId": "98983b79-c72b-40cf-8765-225bfc1361b4"
      },
      "outputs": [
        {
          "output_type": "stream",
          "name": "stdout",
          "text": [
            "              precision    recall  f1-score   support\n",
            "\n",
            "           0       0.84      0.93      0.88       205\n",
            "           1       0.84      0.69      0.76       115\n",
            "\n",
            "    accuracy                           0.84       320\n",
            "   macro avg       0.84      0.81      0.82       320\n",
            "weighted avg       0.84      0.84      0.84       320\n",
            "\n"
          ]
        }
      ],
      "source": [
        "y_pred = predict(X_train_scaled, w)\n",
        "y_pred[y_pred>0.5] = 1\n",
        "y_pred[y_pred<0.5] = 0\n",
        "\n",
        "from sklearn.metrics import classification_report\n",
        "print(classification_report(y_train, y_pred))"
      ]
    },
    {
      "cell_type": "code",
      "execution_count": null,
      "metadata": {
        "id": "ys_ZByfQhcW2"
      },
      "outputs": [],
      "source": [
        "g = lambda z: 1 / (1 + np.exp(-z))\n",
        "class SigmoidLayer:\n",
        "  def __init__(self, n_inp, n_out, bias=True):\n",
        "    if bias: n_inp += 1\n",
        "    w = np.random.randn(n_inp, n_out)\n",
        "    self.w = w\n",
        "    self.bias = bias\n",
        "    self.is_forward = False\n",
        "\n",
        "  def forward(self, X):\n",
        "    if self.bias:\n",
        "      X = np.hstack((np.ones((X.shape[0],1)),X))\n",
        "\n",
        "    z = np.dot(X,self.w)\n",
        "    a = g(z)\n",
        "\n",
        "    self.is_forward = True\n",
        "    self.x = X\n",
        "    self.a = a\n",
        "    return a\n",
        "\n",
        "  def back_propagation(self, delta):\n",
        "    a = self.a\n",
        "    dw = np.dot(self.x.T, delta*a*(1.0-a))\n",
        "\n",
        "    if self.bias:\n",
        "      da = np.dot(delta*a*(1.0-a), self.w.T)[:, 1:]\n",
        "    else:\n",
        "      da = np.dot(delta*a*(1.0-a),self.w.T)\n",
        "\n",
        "    return dw, da"
      ]
    },
    {
      "cell_type": "code",
      "execution_count": null,
      "metadata": {
        "id": "ecIW7iZ4jeW_"
      },
      "outputs": [],
      "source": [
        "NDIMS = 3\n",
        "L1 = 32\n",
        "L2 = 32\n",
        "EPOCHS = 500\n",
        "LR = 0.02\n",
        "\n",
        "layers = [SigmoidLayer(NDIMS, L1, bias=False),SigmoidLayer(L1, L2),SigmoidLayer(L2,1)]"
      ]
    },
    {
      "cell_type": "code",
      "execution_count": null,
      "metadata": {
        "id": "Di2ICVQ1kRXO"
      },
      "outputs": [],
      "source": [
        "def predict(X, model):\n",
        "  for l in model:\n",
        "    X = l.forward(X)\n",
        "  return X\n",
        "\n",
        "y_pred = predict(X_train_scaled, model = layers)"
      ]
    },
    {
      "cell_type": "code",
      "execution_count": null,
      "metadata": {
        "id": "tv-U5VJaLPFe"
      },
      "outputs": [],
      "source": [
        "def train_step(X, y, model, lr=0.01):\n",
        "  y_pred = predict(X, model)\n",
        "  delta = y_pred - y\n",
        "\n",
        "  for l in reversed(model):\n",
        "    dw, delta = l.back_propagation(delta)\n",
        "    l.w -= lr*dw\n",
        "\n",
        "for i in range(10000):\n",
        "  train_step(X_train_scaled, y_train, model=layers)"
      ]
    },
    {
      "cell_type": "code",
      "execution_count": null,
      "metadata": {
        "colab": {
          "base_uri": "https://localhost:8080/"
        },
        "id": "ApK5mODKo_47",
        "outputId": "bd973a1d-5cf2-4f36-db5e-e05bb1e255a9"
      },
      "outputs": [
        {
          "output_type": "stream",
          "name": "stdout",
          "text": [
            "              precision    recall  f1-score   support\n",
            "\n",
            "           0       0.95      0.92      0.94       205\n",
            "           1       0.87      0.92      0.89       115\n",
            "\n",
            "    accuracy                           0.92       320\n",
            "   macro avg       0.91      0.92      0.92       320\n",
            "weighted avg       0.92      0.92      0.92       320\n",
            "\n"
          ]
        }
      ],
      "source": [
        "y_pred = predict(X_train_scaled, model = layers)\n",
        "y_pred[y_pred>=0.5] = 1\n",
        "y_pred[y_pred<0.5] = 0\n",
        "from sklearn.metrics import classification_report\n",
        "print(classification_report(y_train,y_pred))"
      ]
    },
    {
      "cell_type": "code",
      "execution_count": null,
      "metadata": {
        "id": "ED69iIVbpAT4"
      },
      "outputs": [],
      "source": [
        "y_pred = predict(X_train_scaled, w)\n",
        "y_pred[y_pred>0.5] = 1\n",
        "y_pred[y_pred<0.5] = 0\n",
        "\n",
        "from sklearn.metrics import classification_report\n",
        "print(classification_report(y_train, y_pred))"
      ]
    },
    {
      "cell_type": "code",
      "execution_count": null,
      "metadata": {
        "id": "KTOwzC9YpAg2"
      },
      "outputs": [],
      "source": [
        "NDIMS = 3\n",
        "L1 = 64\n",
        "L2 = 108\n",
        "EPOCHS = 10000\n",
        "LR = 0.001\n",
        "\n",
        "w1 = np.random.randn(NDIMS, L1)\n",
        "w2 = np.random.randn(L1 + 1, L2)\n",
        "w3 = np.random.randn(L2+1, 1)\n",
        "\n",
        "def predict(X, w1, w2, w3):\n",
        "  z1 = np.dot(X, w1)\n",
        "  a1 = g(z1)\n",
        "  # add bias\n",
        "  a1 = np.hstack((np.ones((a1.shape[0], 1)), a1))\n",
        "\n",
        "  z2 = np.dot(a1, w2)\n",
        "  a2 = g(z2)\n",
        "  # add bias\n",
        "  a2 = np.hstack((np.ones((a2.shape[0], 1)), a2))\n",
        "\n",
        "  z3 = np.dot(a2, w3)\n",
        "  return g(z3)\n",
        "\n",
        "def loss(X, y, w1, w2, w3):\n",
        "  y_hat = predict(X, w1, w2, w3)\n",
        "  l = y * np.log(y_hat) + (1-y) * np.log(1 - y_hat)\n",
        "  return -np.mean(l)\n",
        "def grad(X, y, w1, w2, w3):\n",
        "  #\n",
        "  # Feed forward \n",
        "  #\n",
        "  z1 = np.dot(X, w1)\n",
        "  a1 = g(z1)\n",
        "  # add bias\n",
        "  a1 = np.hstack((np.ones((a1.shape[0], 1)), a1))\n",
        "\n",
        "  z2 = np.dot(a1, w2)\n",
        "  a2 = g(z2)\n",
        "  # add bias\n",
        "  a2 = np.hstack((np.ones((a2.shape[0], 1)), a2))\n",
        "\n",
        "  z3 = np.dot(a2, w3)\n",
        "  a3 = g(z3)\n",
        "\n",
        "  #\n",
        "  # Back propagation\n",
        "  # \n",
        "\n",
        "  #error from output layer\n",
        "  delta3 = a3 - y\n",
        "  dw3 = np.dot(a2.T, delta3 * a3 * (1-a3))\n",
        "  da2 =np.dot(delta3 * a3 * (1-a3), w3.T)[:, 1:] # m x L2+1\n",
        "\n",
        "  #error from the second hidden layer\n",
        "  #need to remove the first column (bias)\n",
        "  dw2 = np.dot(a1.T, da2 * a2[:, 1:] * (1-a2[:, 1:]))\n",
        "  da1 = np.dot(da2 * a2[:, 1:] * (1-a2[:, 1:]), w2.T)[:, 1:]\n",
        "  #error from the first hidden layer \n",
        "  dw1 = np.dot(X.T, da1 * a1[:, 1:]*(1-a1[:, 1:]))\n",
        "\n",
        "  return dw1, dw2, dw3\n",
        "\n",
        "print(\"Initial loss = \", loss(X_train_scaled,  y_train, w1, w2, w3))\n",
        "for i in range(EPOCHS):\n",
        "  for X_batch, y_batch in batch_generator(X_train_scaled, y_train):\n",
        "    dw1, dw2, dw3 = grad(X_batch, y_batch, w1, w2, w3)\n",
        "    w1 -= LR * dw1\n",
        "    w2 -= LR * dw2\n",
        "    w3 -= LR * dw3\n",
        "\n",
        "print(\"Final loss = \", loss(X_train_scaled,  y_train, w1, w2, w3))"
      ]
    }
  ],
  "metadata": {
    "colab": {
      "provenance": [],
      "authorship_tag": "ABX9TyNM0n6bAA9aOiMu7R0NZ5Lt",
      "include_colab_link": true
    },
    "kernelspec": {
      "display_name": "Python 3",
      "name": "python3"
    },
    "language_info": {
      "name": "python"
    }
  },
  "nbformat": 4,
  "nbformat_minor": 0
}