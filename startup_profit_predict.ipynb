{
  "nbformat": 4,
  "nbformat_minor": 0,
  "metadata": {
    "colab": {
      "provenance": [],
      "authorship_tag": "ABX9TyPrX4qdSYuownrXLEuPO+yH",
      "include_colab_link": true
    },
    "kernelspec": {
      "name": "python3",
      "display_name": "Python 3"
    },
    "language_info": {
      "name": "python"
    }
  },
  "cells": [
    {
      "cell_type": "markdown",
      "metadata": {
        "id": "view-in-github",
        "colab_type": "text"
      },
      "source": [
        "<a href=\"https://colab.research.google.com/github/Hainguyendangduc/DeepLearning_PJ/blob/main/startup_profit_predict.ipynb\" target=\"_parent\"><img src=\"https://colab.research.google.com/assets/colab-badge.svg\" alt=\"Open In Colab\"/></a>"
      ]
    },
    {
      "cell_type": "code",
      "execution_count": null,
      "metadata": {
        "id": "fhfD4l8R8UyP"
      },
      "outputs": [],
      "source": [
        "import numpy as np\n",
        "import pandas as pd\n",
        "from matplotlib import pyplot as plt"
      ]
    },
    {
      "cell_type": "code",
      "source": [
        "data = pd.read_csv(\"50_Startups.csv\")\n",
        "data.head()"
      ],
      "metadata": {
        "colab": {
          "base_uri": "https://localhost:8080/",
          "height": 206
        },
        "id": "8eNDnvdS8eDY",
        "outputId": "ffa44213-8bb3-4cc4-8ceb-03c00e0c9109"
      },
      "execution_count": null,
      "outputs": [
        {
          "output_type": "execute_result",
          "data": {
            "text/html": [
              "\n",
              "  <div id=\"df-89a05e17-7a51-470c-ba8b-d05e7b1ab3a5\">\n",
              "    <div class=\"colab-df-container\">\n",
              "      <div>\n",
              "<style scoped>\n",
              "    .dataframe tbody tr th:only-of-type {\n",
              "        vertical-align: middle;\n",
              "    }\n",
              "\n",
              "    .dataframe tbody tr th {\n",
              "        vertical-align: top;\n",
              "    }\n",
              "\n",
              "    .dataframe thead th {\n",
              "        text-align: right;\n",
              "    }\n",
              "</style>\n",
              "<table border=\"1\" class=\"dataframe\">\n",
              "  <thead>\n",
              "    <tr style=\"text-align: right;\">\n",
              "      <th></th>\n",
              "      <th>R&amp;D Spend</th>\n",
              "      <th>Administration</th>\n",
              "      <th>Marketing Spend</th>\n",
              "      <th>State</th>\n",
              "      <th>Profit</th>\n",
              "    </tr>\n",
              "  </thead>\n",
              "  <tbody>\n",
              "    <tr>\n",
              "      <th>0</th>\n",
              "      <td>165349.20</td>\n",
              "      <td>136897.80</td>\n",
              "      <td>471784.10</td>\n",
              "      <td>New York</td>\n",
              "      <td>192261.83</td>\n",
              "    </tr>\n",
              "    <tr>\n",
              "      <th>1</th>\n",
              "      <td>162597.70</td>\n",
              "      <td>151377.59</td>\n",
              "      <td>443898.53</td>\n",
              "      <td>California</td>\n",
              "      <td>191792.06</td>\n",
              "    </tr>\n",
              "    <tr>\n",
              "      <th>2</th>\n",
              "      <td>153441.51</td>\n",
              "      <td>101145.55</td>\n",
              "      <td>407934.54</td>\n",
              "      <td>Florida</td>\n",
              "      <td>191050.39</td>\n",
              "    </tr>\n",
              "    <tr>\n",
              "      <th>3</th>\n",
              "      <td>144372.41</td>\n",
              "      <td>118671.85</td>\n",
              "      <td>383199.62</td>\n",
              "      <td>New York</td>\n",
              "      <td>182901.99</td>\n",
              "    </tr>\n",
              "    <tr>\n",
              "      <th>4</th>\n",
              "      <td>142107.34</td>\n",
              "      <td>91391.77</td>\n",
              "      <td>366168.42</td>\n",
              "      <td>Florida</td>\n",
              "      <td>166187.94</td>\n",
              "    </tr>\n",
              "  </tbody>\n",
              "</table>\n",
              "</div>\n",
              "      <button class=\"colab-df-convert\" onclick=\"convertToInteractive('df-89a05e17-7a51-470c-ba8b-d05e7b1ab3a5')\"\n",
              "              title=\"Convert this dataframe to an interactive table.\"\n",
              "              style=\"display:none;\">\n",
              "        \n",
              "  <svg xmlns=\"http://www.w3.org/2000/svg\" height=\"24px\"viewBox=\"0 0 24 24\"\n",
              "       width=\"24px\">\n",
              "    <path d=\"M0 0h24v24H0V0z\" fill=\"none\"/>\n",
              "    <path d=\"M18.56 5.44l.94 2.06.94-2.06 2.06-.94-2.06-.94-.94-2.06-.94 2.06-2.06.94zm-11 1L8.5 8.5l.94-2.06 2.06-.94-2.06-.94L8.5 2.5l-.94 2.06-2.06.94zm10 10l.94 2.06.94-2.06 2.06-.94-2.06-.94-.94-2.06-.94 2.06-2.06.94z\"/><path d=\"M17.41 7.96l-1.37-1.37c-.4-.4-.92-.59-1.43-.59-.52 0-1.04.2-1.43.59L10.3 9.45l-7.72 7.72c-.78.78-.78 2.05 0 2.83L4 21.41c.39.39.9.59 1.41.59.51 0 1.02-.2 1.41-.59l7.78-7.78 2.81-2.81c.8-.78.8-2.07 0-2.86zM5.41 20L4 18.59l7.72-7.72 1.47 1.35L5.41 20z\"/>\n",
              "  </svg>\n",
              "      </button>\n",
              "      \n",
              "  <style>\n",
              "    .colab-df-container {\n",
              "      display:flex;\n",
              "      flex-wrap:wrap;\n",
              "      gap: 12px;\n",
              "    }\n",
              "\n",
              "    .colab-df-convert {\n",
              "      background-color: #E8F0FE;\n",
              "      border: none;\n",
              "      border-radius: 50%;\n",
              "      cursor: pointer;\n",
              "      display: none;\n",
              "      fill: #1967D2;\n",
              "      height: 32px;\n",
              "      padding: 0 0 0 0;\n",
              "      width: 32px;\n",
              "    }\n",
              "\n",
              "    .colab-df-convert:hover {\n",
              "      background-color: #E2EBFA;\n",
              "      box-shadow: 0px 1px 2px rgba(60, 64, 67, 0.3), 0px 1px 3px 1px rgba(60, 64, 67, 0.15);\n",
              "      fill: #174EA6;\n",
              "    }\n",
              "\n",
              "    [theme=dark] .colab-df-convert {\n",
              "      background-color: #3B4455;\n",
              "      fill: #D2E3FC;\n",
              "    }\n",
              "\n",
              "    [theme=dark] .colab-df-convert:hover {\n",
              "      background-color: #434B5C;\n",
              "      box-shadow: 0px 1px 3px 1px rgba(0, 0, 0, 0.15);\n",
              "      filter: drop-shadow(0px 1px 2px rgba(0, 0, 0, 0.3));\n",
              "      fill: #FFFFFF;\n",
              "    }\n",
              "  </style>\n",
              "\n",
              "      <script>\n",
              "        const buttonEl =\n",
              "          document.querySelector('#df-89a05e17-7a51-470c-ba8b-d05e7b1ab3a5 button.colab-df-convert');\n",
              "        buttonEl.style.display =\n",
              "          google.colab.kernel.accessAllowed ? 'block' : 'none';\n",
              "\n",
              "        async function convertToInteractive(key) {\n",
              "          const element = document.querySelector('#df-89a05e17-7a51-470c-ba8b-d05e7b1ab3a5');\n",
              "          const dataTable =\n",
              "            await google.colab.kernel.invokeFunction('convertToInteractive',\n",
              "                                                     [key], {});\n",
              "          if (!dataTable) return;\n",
              "\n",
              "          const docLinkHtml = 'Like what you see? Visit the ' +\n",
              "            '<a target=\"_blank\" href=https://colab.research.google.com/notebooks/data_table.ipynb>data table notebook</a>'\n",
              "            + ' to learn more about interactive tables.';\n",
              "          element.innerHTML = '';\n",
              "          dataTable['output_type'] = 'display_data';\n",
              "          await google.colab.output.renderOutput(dataTable, element);\n",
              "          const docLink = document.createElement('div');\n",
              "          docLink.innerHTML = docLinkHtml;\n",
              "          element.appendChild(docLink);\n",
              "        }\n",
              "      </script>\n",
              "    </div>\n",
              "  </div>\n",
              "  "
            ],
            "text/plain": [
              "   R&D Spend  Administration  Marketing Spend       State     Profit\n",
              "0  165349.20       136897.80        471784.10    New York  192261.83\n",
              "1  162597.70       151377.59        443898.53  California  191792.06\n",
              "2  153441.51       101145.55        407934.54     Florida  191050.39\n",
              "3  144372.41       118671.85        383199.62    New York  182901.99\n",
              "4  142107.34        91391.77        366168.42     Florida  166187.94"
            ]
          },
          "metadata": {},
          "execution_count": 2
        }
      ]
    },
    {
      "cell_type": "code",
      "source": [
        "X = data.iloc[:, [0, 1, 2]].values\n",
        "y = data.iloc[:, -1:].values\n",
        "\n",
        "print(X.shape)\n",
        "print(y.shape)"
      ],
      "metadata": {
        "colab": {
          "base_uri": "https://localhost:8080/"
        },
        "id": "ttyEzvbu8eIp",
        "outputId": "de4816af-81d8-4bf6-9c2c-1a3d187652a7"
      },
      "execution_count": null,
      "outputs": [
        {
          "output_type": "stream",
          "name": "stdout",
          "text": [
            "(50, 3)\n",
            "(50, 1)\n"
          ]
        }
      ]
    },
    {
      "cell_type": "code",
      "source": [
        "from sklearn.model_selection import train_test_split\n",
        "X_train, X_test, y_train, y_test = train_test_split(X, y, \n",
        "                                                    test_size=0.2, \n",
        "                                                    random_state=42)\n",
        "\n",
        "print(X_train.shape, X_test.shape)\n",
        "print(y_train.shape, y_test.shape)"
      ],
      "metadata": {
        "colab": {
          "base_uri": "https://localhost:8080/"
        },
        "id": "o30b0y4-8eed",
        "outputId": "9039f0bb-fa1d-44d8-9286-2e3b5a2aa391"
      },
      "execution_count": null,
      "outputs": [
        {
          "output_type": "stream",
          "name": "stdout",
          "text": [
            "(40, 3) (10, 3)\n",
            "(40, 1) (10, 1)\n"
          ]
        }
      ]
    },
    {
      "cell_type": "code",
      "source": [
        "X_max = X_train.max(axis=0, keepdims=True)\n",
        "X_min = X_train.min(axis=0, keepdims=True)\n",
        "print(X_max.shape, X_min.shape)\n",
        "print(X_max)\n",
        "print(X_min)"
      ],
      "metadata": {
        "colab": {
          "base_uri": "https://localhost:8080/"
        },
        "id": "9RsrN-7D8ef2",
        "outputId": "a13004a6-653b-4aab-ddef-f9f4a3d455be"
      },
      "execution_count": null,
      "outputs": [
        {
          "output_type": "stream",
          "name": "stdout",
          "text": [
            "(1, 3) (1, 3)\n",
            "[[165349.2  182645.56 471784.1 ]]\n",
            "[[    0.   51283.14     0.  ]]\n"
          ]
        }
      ]
    },
    {
      "cell_type": "code",
      "source": [
        "X_train_scaled = (X_train - X_min) / (X_max - X_min)\n",
        "print(X_train_scaled.min(), X_train_scaled.max())"
      ],
      "metadata": {
        "colab": {
          "base_uri": "https://localhost:8080/"
        },
        "id": "JuOA_S2K8eh0",
        "outputId": "af4af732-8c4f-4f00-e29d-481012e09501"
      },
      "execution_count": null,
      "outputs": [
        {
          "output_type": "stream",
          "name": "stdout",
          "text": [
            "0.0 1.0\n"
          ]
        }
      ]
    },
    {
      "cell_type": "code",
      "source": [
        "X_test_scaled = (X_test - X_min) / (X_max - X_min)\n",
        "print(X_train_scaled.min(), X_train_scaled.max())"
      ],
      "metadata": {
        "colab": {
          "base_uri": "https://localhost:8080/"
        },
        "id": "lhL2YdaS8ekq",
        "outputId": "0e83371b-5cbd-4980-f1fd-a18bba115fb1"
      },
      "execution_count": null,
      "outputs": [
        {
          "output_type": "stream",
          "name": "stdout",
          "text": [
            "0.0 1.0\n"
          ]
        }
      ]
    },
    {
      "cell_type": "code",
      "source": [
        "y_mean = y_train.mean(axis=0, keepdims=True)\n",
        "y_std = y_train.std(axis=0, keepdims=True)\n",
        "\n",
        "# Standardization \n",
        "y_train_scaled = (y_train - y_mean) / y_std\n",
        "y_test_scaled = (y_test - y_mean) / y_std\n",
        "\n",
        "print(y_train_scaled.max(), y_train_scaled.min())\n",
        "print(y_test_scaled.max(), y_test_scaled.min())"
      ],
      "metadata": {
        "colab": {
          "base_uri": "https://localhost:8080/"
        },
        "id": "7wWfTHys8enT",
        "outputId": "75538ca5-adf6-425c-9001-677f27724a73"
      },
      "execution_count": null,
      "outputs": [
        {
          "output_type": "stream",
          "name": "stdout",
          "text": [
            "1.8464513788878065 -2.433579441809424\n",
            "0.449636647684142 -1.9276315184465596\n"
          ]
        }
      ]
    },
    {
      "cell_type": "code",
      "source": [
        "def predict(X, w):\n",
        "  y_pred = np.dot(X, w.T)\n",
        "  return y_pred\n",
        "\n",
        "def loss(X, y, w):\n",
        "  y_pred = predict(X, w)\n",
        "  return np.mean((y_pred - y)**2)\n",
        "\n",
        "def grad(X, y, w):\n",
        "  y_pred = predict(X, w)\n",
        "  delta = y_pred - y\n",
        "  dw = np.dot(X.T, delta)\n",
        "  return dw.T"
      ],
      "metadata": {
        "id": "eDUGffS18ep6"
      },
      "execution_count": null,
      "outputs": []
    },
    {
      "cell_type": "code",
      "source": [
        "# Perform gradient descent \n",
        "def train(X, y, lr=0.01, epochs=100):\n",
        "  w = np.zeros((1, X.shape[1]))\n",
        "  for i in range(epochs):\n",
        "    l = loss(X, y_train_scaled, w)\n",
        "    dw = grad(X, y_train_scaled, w)\n",
        "    w -= lr * dw\n",
        "  return w\n",
        "\n",
        "w = train(X_train_scaled, y_train_scaled)\n",
        "print(w)"
      ],
      "metadata": {
        "colab": {
          "base_uri": "https://localhost:8080/"
        },
        "id": "h4JSJZGA8etI",
        "outputId": "720d7fa6-f6b9-4dce-ba6b-7893d3e92f37"
      },
      "execution_count": null,
      "outputs": [
        {
          "output_type": "stream",
          "name": "stdout",
          "text": [
            "[[ 2.507011   -1.78316513 -0.15843011]]\n"
          ]
        }
      ]
    },
    {
      "cell_type": "code",
      "source": [
        "y_pred = predict(X_train_scaled, w)\n",
        "plt.scatter(y_train_scaled.ravel(), y_pred.ravel())"
      ],
      "metadata": {
        "colab": {
          "base_uri": "https://localhost:8080/",
          "height": 282
        },
        "id": "-wfyKk8r8eu1",
        "outputId": "696ed2fb-5e13-490a-e5c5-848faf270a30"
      },
      "execution_count": null,
      "outputs": [
        {
          "output_type": "execute_result",
          "data": {
            "text/plain": [
              "<matplotlib.collections.PathCollection at 0x7ffb0c858410>"
            ]
          },
          "metadata": {},
          "execution_count": 11
        },
        {
          "output_type": "display_data",
          "data": {
            "image/png": "[encoded data removed]",
            "text/plain": [
              "<Figure size 432x288 with 1 Axes>"
            ]
          },
          "metadata": {
            "needs_background": "light"
          }
        }
      ]
    },
    {
      "cell_type": "code",
      "source": [
        "def evaluation(y_true, y_pred):\n",
        "  rmse = np.sqrt(np.mean((y_pred - y_true)**2))\n",
        "  mae = np.mean(np.abs(y_pred - y_true))\n",
        "\n",
        "  #r2_score = 1 - SSR / SST\n",
        "  sst = np.sum((y_true - y_true.mean())**2)\n",
        "  ssr = np.sum((y_true - y_pred)**2)\n",
        "  r2_score = 1 - ssr / sst\n",
        "\n",
        "  # display results\n",
        "  print(f\"RMSE = {rmse}\")\n",
        "  print(f\"MAE = {mae}\")\n",
        "  print(f\"R2_score = {r2_score}\")\n",
        "\n",
        "evaluation(y_train_scaled, y_pred)"
      ],
      "metadata": {
        "colab": {
          "base_uri": "https://localhost:8080/"
        },
        "id": "8l--nJJX8eww",
        "outputId": "ca98fe18-69b6-4444-a60b-a87afa361f44"
      },
      "execution_count": null,
      "outputs": [
        {
          "output_type": "stream",
          "name": "stdout",
          "text": [
            "RMSE = 0.23924693156023047\n",
            "MAE = 0.1838466007600516\n",
            "R2_score = 0.9427609057390144\n"
          ]
        }
      ]
    },
    {
      "cell_type": "code",
      "source": [
        "# Evaluation for testset\n",
        "y_pred = predict(X_test_scaled, w)\n",
        "evaluation(y_test_scaled, y_pred)"
      ],
      "metadata": {
        "colab": {
          "base_uri": "https://localhost:8080/"
        },
        "id": "LOUTgJ8n8eys",
        "outputId": "8d1295b3-26d1-42e0-a76c-d57519e6fc33"
      },
      "execution_count": null,
      "outputs": [
        {
          "output_type": "stream",
          "name": "stdout",
          "text": [
            "RMSE = 0.7148241097897079\n",
            "MAE = 0.4690037764296552\n",
            "R2_score = -0.08622870742543354\n"
          ]
        }
      ]
    },
    {
      "cell_type": "code",
      "source": [
        "# adding bias\n",
        "\n",
        "X_train_new = np.hstack((X_train_scaled, np.ones((X_train_scaled.shape[0], 1))))\n",
        "w = train(X_train_new, y_train_scaled)\n",
        "\n",
        "y_pred = predict(X_train_new, w)\n",
        "plt.scatter(y_train_scaled.ravel(), y_pred.ravel())\n",
        "\n",
        "evaluation(y_train_scaled, y_pred)"
      ],
      "metadata": {
        "colab": {
          "base_uri": "https://localhost:8080/",
          "height": 321
        },
        "id": "MAJm4ZTc8e0X",
        "outputId": "d34d1b32-7fa1-4ea4-d55f-14dd0f240ea2"
      },
      "execution_count": null,
      "outputs": [
        {
          "output_type": "stream",
          "name": "stdout",
          "text": [
            "RMSE = 0.23924693156023047\n",
            "MAE = 0.1838466007600516\n",
            "R2_score = 0.9427609057390144\n"
          ]
        },
        {
          "output_type": "display_data",
          "data": {
            "image/png": "[encoded data removed]",
            "text/plain": [
              "<Figure size 432x288 with 1 Axes>"
            ]
          },
          "metadata": {
            "needs_background": "light"
          }
        }
      ]
    },
    {
      "cell_type": "code",
      "source": [
        "# Evaluation for testset\n",
        "X_test_new = np.hstack((X_test_scaled, np.ones((X_test_scaled.shape[0], 1))))\n",
        "y_pred = predict(X_test_new, w)\n",
        "evaluation(y_test_scaled, y_pred)"
      ],
      "metadata": {
        "colab": {
          "base_uri": "https://localhost:8080/"
        },
        "id": "hb97V5au8e13",
        "outputId": "17491444-2cc3-4782-a3f3-5df17e72397e"
      },
      "execution_count": null,
      "outputs": [
        {
          "output_type": "stream",
          "name": "stdout",
          "text": [
            "RMSE = 0.2785271659136916\n",
            "MAE = 0.2325253288892763\n",
            "R2_score = 0.835085815151949\n"
          ]
        }
      ]
    },
    {
      "cell_type": "code",
      "source": [
        "y_hat = predict(X_test_scaled, w)\n",
        "evaluation(y_test, y_hat)"
      ],
      "metadata": {
        "colab": {
          "base_uri": "https://localhost:8080/"
        },
        "id": "6weB0ye2EMG_",
        "outputId": "a350cfc1-c146-4641-ddd6-0eb061a81cdb"
      },
      "execution_count": null,
      "outputs": [
        {
          "output_type": "stream",
          "name": "stdout",
          "text": [
            "RMSE = 101526.06876789838\n",
            "MAE = 97456.43643344584\n",
            "R2_score = -11.728628711332444\n"
          ]
        }
      ]
    },
    {
      "cell_type": "code",
      "source": [
        "class LinearRegression:\n",
        "  def __init__(self, fit_intercept=True):\n",
        "    self.fit_intercept = fit_intercept\n",
        "    self.w = None\n",
        "\n",
        "  def predict(self, X):\n",
        "    if self.w is None:\n",
        "      print(\"Model has not been fitted!!\")\n",
        "      return None\n",
        "    else:\n",
        "      if self.fit_intercept:\n",
        "        X = np.hstack((X, np.ones((X.shape[0], 1))))\n",
        "      return np.dot(X, self.w.T)\n",
        "\n",
        "  def loss(self, X, y):\n",
        "    y_pred = self.predict(X)\n",
        "    if y_pred is None:\n",
        "      print(\"Model has not been fitted!!\")\n",
        "      return None\n",
        "    else:\n",
        "      return 0.5 * np.mean((y_pred - y)**2)\n",
        "\n",
        "  def fit(self, X, y, lr=0.01, epochs=100):\n",
        "    if self.fit_intercept:\n",
        "        self.w = np.zeros((1, X.shape[1] + 1))\n",
        "        X_new = np.hstack((X, np.ones((X.shape[0], 1))))\n",
        "    else:\n",
        "        self.w = np.zeros((1, X.shape[1] + 1))\n",
        "    \n",
        "    for i in range(epochs):\n",
        "      y_pred = self.predict(X)\n",
        "      delta = y_pred - y\n",
        "      dw = np.dot(X_new.T, delta)\n",
        "      self.w -= lr * dw.T"
      ],
      "metadata": {
        "id": "spcmWC0K8e3p"
      },
      "execution_count": null,
      "outputs": []
    },
    {
      "cell_type": "code",
      "source": [
        "model = LinearRegression()\n",
        "model.fit(X_train_scaled, y_train_scaled)\n",
        "\n",
        "y_pred = model.predict(X_train_scaled)\n",
        "evaluation(y_train_scaled, y_pred)"
      ],
      "metadata": {
        "colab": {
          "base_uri": "https://localhost:8080/"
        },
        "id": "FyqRTkBt8e62",
        "outputId": "ddd51424-364f-46f6-847e-adb4d8df5a27"
      },
      "execution_count": null,
      "outputs": [
        {
          "output_type": "stream",
          "name": "stdout",
          "text": [
            "RMSE = 0.23924693156023047\n",
            "MAE = 0.1838466007600516\n",
            "R2_score = 0.9427609057390144\n"
          ]
        }
      ]
    }
  ]
}